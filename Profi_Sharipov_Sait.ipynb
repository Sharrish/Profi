{
 "cells": [
  {
   "cell_type": "markdown",
   "metadata": {
    "ExecuteTime": {
     "end_time": "2021-05-20T20:22:08.004023Z",
     "start_time": "2021-05-20T20:22:07.999465Z"
    }
   },
   "source": [
    "# 🙋🏻‍♂️Шарипов Саит\n",
    "# 📊 Тестовое задание"
   ]
  },
  {
   "cell_type": "markdown",
   "metadata": {},
   "source": [
    "## 📄Описание задачи:\n",
    "Подкинули монету $N$ раз. Кол-во случаев, когда выпал орёл, на $10\\%$ больше, чем кол-во случаев, когда выпала решка. При каком $N$ мы можем сказать, что монета «нечестная» (орёл и решка выпадают с разной вероятностью)?\n"
   ]
  },
  {
   "cell_type": "markdown",
   "metadata": {},
   "source": [
    "## ✅Решение:"
   ]
  },
  {
   "cell_type": "markdown",
   "metadata": {
    "ExecuteTime": {
     "end_time": "2021-05-21T22:27:32.099384Z",
     "start_time": "2021-05-21T22:27:32.093256Z"
    }
   },
   "source": [
    "Рассмотрим выборку наблюдений $x_1, ... , x_N$, которую мы получили в результате $N$ подбрасываний монеты.  \n",
    "Пусть $x_i = 1$ - выпал орёл, а $x_i = 0$ - выпала решка.  \n",
    "$cnt_1 = \\sum_{i=1}^N x_i$ - кол-во случаев, когда выпал орёл.  \n",
    "$cnt_0 = N - cnt_1$ - кол-во случаев, когда выпала решка.  \n",
    "\n",
    "Необходимо проверить гипотезы:  \n",
    "$H_0$: монета \"честная\".  \n",
    "$H_1$: монета \"нечестная\".\n",
    "\n",
    "$x_i$ описывается случайной величиной $\\xi \\sim \\text{Bernoulli}(p)$. Тогда число орлов $cnt_1$ описывается случайной величиной $\\eta$ равной числу успехов в $N$ независимых испытаниях Бернулли, то есть $cnt_1 \\sim \\text{Bin}(N, p)$. Следовательно $\\mathbb{E}\\eta = Np$."
   ]
  },
  {
   "cell_type": "markdown",
   "metadata": {},
   "source": [
    "Зафиксируем уровень статистической значимости $\\alpha = 0.05$."
   ]
  },
  {
   "cell_type": "markdown",
   "metadata": {
    "ExecuteTime": {
     "end_time": "2021-05-22T00:05:41.216102Z",
     "start_time": "2021-05-22T00:05:41.213591Z"
    }
   },
   "source": [
    "### 1️⃣ Критерий Стьюдента\n",
    "\n",
    "Критерий Стьюдента проверяет гипотезу о равенстве матожиданий. В данном случае так как математическое ожидание случайной величины $\\xi \\sim \\text{Bernoulli}(p)$ равно $p$ то можно переформулировать гипотезы для применения критерия Стьюдента:\n",
    "\n",
    "Пусть $x^N = x_1, ... , x_N$ — реализация выборки $\\xi^N$, $\\xi \\sim Bernoulli(p)$.  \n",
    "\n",
    "$H_0$: $p = 0.5$    \n",
    "$H_1$: $p \\neq 0.5$\n",
    "\n",
    "  \n",
    "Пусть $\\bar x$ - выборочное среднее $x_1, ... , x_N$.  \n",
    "$\\hat{\\sigma} = \\sqrt{\\frac{\\sum_{i=1}^{n}\\left(x_i - \\bar x\\right)^2}{n-1}}$ - корень из их выборочной дисперсии.  \n",
    "Тогда если $t = \\frac{\\bar x - \\mu}{\\frac{\\hat\\sigma}{\\sqrt n}}$, то  \n",
    "$t \\sim \\mathcal{St}\\,(\\text{df} = n - 1)$  \n",
    "  \n",
    "В данной задаче имеем двустороннюю альтернативную гипотезу, поэтому достигаемый уровень значимости ***p_value*** будем считать двусторонний.\n",
    "\n",
    "Отметим, что критерий Стьюдента может ввести себя плохо в двух случаях: \n",
    "\n",
    "1) Есть выбросы в выборке (в нашем случае случайная величина принимает значения только $0$ и $1$, поэтому все ОК)  \n",
    "\n",
    "2) Выборка настолько маленького размера, что её средне выборочное не имеет нормального распределения. (в нашем случае мы имеем дело с Бернулевскими случайными величинами, сумма которых ведет себя нормально уже при небольших $N$)\n",
    "\n",
    "Поэтому в данной задаче корректно использовать критерий Стьюдента.\n",
    " "
   ]
  },
  {
   "cell_type": "code",
   "execution_count": 34,
   "metadata": {
    "ExecuteTime": {
     "end_time": "2021-05-22T23:12:57.172296Z",
     "start_time": "2021-05-22T23:12:57.151150Z"
    }
   },
   "outputs": [],
   "source": [
    "import numpy as np\n",
    "from scipy.stats import t # распределение Стьюдента\n",
    "\n",
    "def get_p_value_two_sided(t_statistic, n):\n",
    "    \"\"\"\n",
    "    По t-статистике возвращает достигаемый уровень значимости\n",
    "    p_value - двусторонний, так как альтернативная гипотеза была двусторонней.\n",
    "    \"\"\"\n",
    "    if t_statistic > 0: # right-sided         \n",
    "        one_sided_p = 1 - t(df=n - 1).cdf(t_statistic)\n",
    "    else: # left-sided\n",
    "        one_sided_p = t(df=n - 1).cdf(t_statistic)\n",
    "    return min(one_sided_p * 2, 1)\n",
    "\n",
    "\n",
    "def my_t_test(n, alpha):\n",
    "    \"\"\"\n",
    "    T-test для данной задачи. Можно было бы воспользоваться реализованными\n",
    "    методами из статистических библиотек, но для наглядности посчитаем\n",
    "    t-статистику самостоятельно.\n",
    "    Возвращает True - если верна альтернативная гипотеза H1.\n",
    "    Возвращает False - если верна нулевая гипотеза H0.\n",
    "    \"\"\"\n",
    "    cnt1 = int(0.55 * n)\n",
    "    cnt0 = n - cnt1\n",
    "    x = [1] * cnt1 + [0] * cnt0 # орлов на 10% больше, чем решек\n",
    "    x_sample = np.array(x)\n",
    "    n = x_sample.size\n",
    "    sample_mean = np.mean(x_sample) # выборочное среднее\n",
    "    estimated_sigma = np.std(x_sample, dtype=np.float64, ddof=1) # выборочное СКО\n",
    "    estimated_sem = estimated_sigma / n ** 0.5 # SEM = standard error of the mean\n",
    "    t_statistic = (sample_mean - 0.5) / estimated_sem\n",
    "    # if H0 is true, t has distribution of Student(n - 1)\n",
    "    p_value = get_p_value_two_sided(t_statistic, n)\n",
    "    if p_value <= alpha:\n",
    "        return True # принимаем H1\n",
    "    else:\n",
    "        return False # не отвергаем H0"
   ]
  },
  {
   "cell_type": "code",
   "execution_count": 36,
   "metadata": {
    "ExecuteTime": {
     "end_time": "2021-05-22T23:13:35.627226Z",
     "start_time": "2021-05-22T23:13:35.209301Z"
    }
   },
   "outputs": [
    {
     "name": "stdout",
     "output_type": "stream",
     "text": [
      "391\n",
      "393\n",
      "395\n",
      "400\n",
      "402\n",
      "404\n",
      "406\n",
      "408\n",
      "410\n",
      "411\n",
      "412\n",
      "413\n",
      "414\n",
      "415\n",
      "416\n",
      "417\n",
      "419\n",
      "420\n",
      "421\n",
      "422\n",
      "423\n",
      "424\n",
      "425\n",
      "426\n",
      "427\n",
      "428\n",
      "429\n",
      "430\n",
      "431\n",
      "432\n",
      "433\n",
      "434\n",
      "435\n",
      "436\n",
      "437\n",
      "438\n",
      "439\n",
      "440\n",
      "441\n",
      "442\n",
      "443\n",
      "444\n",
      "445\n",
      "446\n",
      "447\n",
      "448\n",
      "449\n",
      "450\n",
      "451\n",
      "452\n",
      "453\n",
      "454\n",
      "455\n",
      "456\n",
      "457\n",
      "458\n",
      "459\n",
      "460\n",
      "461\n",
      "462\n",
      "463\n",
      "464\n",
      "465\n",
      "466\n",
      "467\n",
      "468\n",
      "469\n",
      "470\n",
      "471\n",
      "472\n",
      "473\n",
      "474\n",
      "475\n",
      "476\n",
      "477\n",
      "478\n",
      "479\n",
      "480\n",
      "481\n",
      "482\n",
      "483\n",
      "484\n",
      "485\n",
      "486\n",
      "487\n",
      "488\n",
      "489\n",
      "490\n",
      "491\n",
      "492\n",
      "493\n",
      "494\n",
      "495\n",
      "496\n",
      "497\n",
      "498\n",
      "499\n"
     ]
    }
   ],
   "source": [
    "for i in range(10, 500):\n",
    "    if my_t_test(i, 0.05):\n",
    "        print(i)"
   ]
  },
  {
   "cell_type": "markdown",
   "metadata": {},
   "source": [
    "Видим, что первые значения $N$, при которых нулевая гипотеза отвергается идут не подряд. Это связано с тем, что возникает ошибка при округлении числа решек и орлов. Однако при $N >= 410$ дальнейшие значения идут подряд. Поэтому для надежности, исключим шум, связанный с проблемами округления и будем считать, что при $N >= 410$ можно сказать, что монета нечестная."
   ]
  },
  {
   "cell_type": "markdown",
   "metadata": {
    "ExecuteTime": {
     "end_time": "2021-05-22T00:06:06.240675Z",
     "start_time": "2021-05-22T00:06:06.231317Z"
    }
   },
   "source": [
    "### 2️⃣ Критерий $\\chi^2$"
   ]
  },
  {
   "cell_type": "markdown",
   "metadata": {},
   "source": [
    "В качестве бонуса приведу решение с помощью использования критерия хи-квадрат.  \n",
    "Критерий хи-квадрат для матрицы сопряженности проверяет гипотезу о том, что группы связанные с каждым измерением независимы (или, что тоже самое, наблюдения имеют одно и то же распределение).  \n"
   ]
  },
  {
   "cell_type": "code",
   "execution_count": 29,
   "metadata": {
    "ExecuteTime": {
     "end_time": "2021-05-22T23:07:07.691939Z",
     "start_time": "2021-05-22T23:07:07.686315Z"
    }
   },
   "outputs": [],
   "source": [
    "from scipy import stats\n",
    "\n",
    "def test_chi(n):\n",
    "    alpha = 0.05  # фиксируем уровень cтатистической значимости\n",
    "    x0 = 0.55 * n # число орлов\n",
    "    x1 = 0.45 * n # число решек\n",
    "    \n",
    "    tau1, p_value, _, _ = stats.chi2_contingency(\n",
    "    observed=[[x0, x1], [0.5 * n, 0.5 * n]], correction=False)\n",
    "    \n",
    "    return p_value"
   ]
  },
  {
   "cell_type": "code",
   "execution_count": 39,
   "metadata": {
    "ExecuteTime": {
     "end_time": "2021-05-22T23:20:52.730567Z",
     "start_time": "2021-05-22T23:20:52.545694Z"
    }
   },
   "outputs": [
    {
     "name": "stdout",
     "output_type": "stream",
     "text": [
      "767\n"
     ]
    }
   ],
   "source": [
    "for i in range(20, 1000):\n",
    "    if (test_chi(i) <= 0.05):\n",
    "        print(i)\n",
    "        break"
   ]
  },
  {
   "cell_type": "markdown",
   "metadata": {},
   "source": [
    "Так, здесь мы получили ответ гораздо больший. Это можно объяснить тем, что критерий Стьюдента обладает большей мощностью, чем критерий хи-квдарат (в котором гипотеза более хитрая). Так что следует считать, что последнее слово за критерием Стьюдента."
   ]
  },
  {
   "cell_type": "markdown",
   "metadata": {},
   "source": [
    "### 👨🏻‍⚖️ Ответ:"
   ]
  },
  {
   "cell_type": "markdown",
   "metadata": {
    "ExecuteTime": {
     "end_time": "2021-05-22T23:26:27.577429Z",
     "start_time": "2021-05-22T23:26:27.571937Z"
    }
   },
   "source": [
    "При $N >= 410$ (если принять в расчет ошибки округления)."
   ]
  },
  {
   "cell_type": "code",
   "execution_count": null,
   "metadata": {},
   "outputs": [],
   "source": []
  }
 ],
 "metadata": {
  "kernelspec": {
   "display_name": "Python 3",
   "language": "python",
   "name": "python3"
  },
  "language_info": {
   "codemirror_mode": {
    "name": "ipython",
    "version": 3
   },
   "file_extension": ".py",
   "mimetype": "text/x-python",
   "name": "python",
   "nbconvert_exporter": "python",
   "pygments_lexer": "ipython3",
   "version": "3.8.5"
  },
  "toc": {
   "base_numbering": 1,
   "nav_menu": {},
   "number_sections": false,
   "sideBar": true,
   "skip_h1_title": false,
   "title_cell": "Table of Contents",
   "title_sidebar": "Contents",
   "toc_cell": false,
   "toc_position": {},
   "toc_section_display": true,
   "toc_window_display": false
  }
 },
 "nbformat": 4,
 "nbformat_minor": 4
}
